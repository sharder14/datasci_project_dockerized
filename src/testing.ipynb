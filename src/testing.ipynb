{
 "cells": [
  {
   "cell_type": "code",
   "execution_count": 1,
   "id": "80b29e32-ca35-4cdd-b73d-de6d658c0ca1",
   "metadata": {},
   "outputs": [],
   "source": [
    "import pandas as pd"
   ]
  },
  {
   "cell_type": "code",
   "execution_count": 3,
   "id": "907a547a-83f9-4457-9b03-bce31524d453",
   "metadata": {},
   "outputs": [],
   "source": [
    "x=[1,2,1,2,3]\n",
    "y=[2,1,2,11,1]"
   ]
  },
  {
   "cell_type": "code",
   "execution_count": 4,
   "id": "3237cadb-5c20-4d16-a926-20e9600987a4",
   "metadata": {},
   "outputs": [
    {
     "name": "stdout",
     "output_type": "stream",
     "text": [
      "[1, 2, 1, 2, 3]\n"
     ]
    }
   ],
   "source": [
    "print(x)"
   ]
  },
  {
   "cell_type": "code",
   "execution_count": 5,
   "id": "91a32ce6-c26d-4488-902d-31057c6f5c2b",
   "metadata": {},
   "outputs": [],
   "source": [
    "df=pd.DataFrame({'x':x,'y':y})"
   ]
  },
  {
   "cell_type": "code",
   "execution_count": 6,
   "id": "70496330-1141-4acb-9735-78da90bc0f98",
   "metadata": {},
   "outputs": [
    {
     "name": "stdout",
     "output_type": "stream",
     "text": [
      "   x   y\n",
      "0  1   2\n",
      "1  2   1\n",
      "2  1   2\n",
      "3  2  11\n",
      "4  3   1\n"
     ]
    }
   ],
   "source": [
    "print(df)"
   ]
  },
  {
   "cell_type": "code",
   "execution_count": null,
   "id": "5a081ac2-a351-4b87-87cd-962db341a043",
   "metadata": {},
   "outputs": [],
   "source": []
  }
 ],
 "metadata": {
  "kernelspec": {
   "display_name": "Python 3 (ipykernel)",
   "language": "python",
   "name": "python3"
  },
  "language_info": {
   "codemirror_mode": {
    "name": "ipython",
    "version": 3
   },
   "file_extension": ".py",
   "mimetype": "text/x-python",
   "name": "python",
   "nbconvert_exporter": "python",
   "pygments_lexer": "ipython3",
   "version": "3.11.3"
  }
 },
 "nbformat": 4,
 "nbformat_minor": 5
}
